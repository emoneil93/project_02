{
 "cells": [
  {
   "cell_type": "markdown",
   "metadata": {},
   "source": [
    "<img src=\"http://imgur.com/1ZcRyrc.png\" style=\"float: left; margin: 20px; height: 55px\">\n",
    "\n",
    "# Project 2: Analyzing IMDb Data\n",
    "\n",
    "_Author: Kevin Markham (DC)_\n",
    "\n",
    "---"
   ]
  },
  {
   "cell_type": "markdown",
   "metadata": {},
   "source": [
    "For project two, you will complete a serious of exercises exploring movie rating data from IMDb.\n",
    "\n",
    "For these exercises, you will be conducting basic exploratory data analysis on IMDB's movie data, looking to answer such questions as:\n",
    "\n",
    "What is the average rating per genre?\n",
    "How many different actors are in a movie?\n",
    "\n",
    "This process will help you practice your data analysis skills while becoming comfortable with Pandas."
   ]
  },
  {
   "cell_type": "markdown",
   "metadata": {},
   "source": [
    "## Basic level"
   ]
  },
  {
   "cell_type": "code",
   "execution_count": 2,
   "metadata": {},
   "outputs": [],
   "source": [
    "import pandas as pd\n",
    "import matplotlib.pyplot as plt\n",
    "%matplotlib inline"
   ]
  },
  {
   "cell_type": "markdown",
   "metadata": {},
   "source": [
    "#### Read in 'imdb_1000.csv' and store it in a DataFrame named movies."
   ]
  },
  {
   "cell_type": "code",
   "execution_count": 3,
   "metadata": {},
   "outputs": [
    {
     "data": {
      "text/html": [
       "<div>\n",
       "<style scoped>\n",
       "    .dataframe tbody tr th:only-of-type {\n",
       "        vertical-align: middle;\n",
       "    }\n",
       "\n",
       "    .dataframe tbody tr th {\n",
       "        vertical-align: top;\n",
       "    }\n",
       "\n",
       "    .dataframe thead th {\n",
       "        text-align: right;\n",
       "    }\n",
       "</style>\n",
       "<table border=\"1\" class=\"dataframe\">\n",
       "  <thead>\n",
       "    <tr style=\"text-align: right;\">\n",
       "      <th></th>\n",
       "      <th>star_rating</th>\n",
       "      <th>title</th>\n",
       "      <th>content_rating</th>\n",
       "      <th>genre</th>\n",
       "      <th>duration</th>\n",
       "      <th>actors_list</th>\n",
       "    </tr>\n",
       "  </thead>\n",
       "  <tbody>\n",
       "    <tr>\n",
       "      <th>0</th>\n",
       "      <td>9.3</td>\n",
       "      <td>The Shawshank Redemption</td>\n",
       "      <td>R</td>\n",
       "      <td>Crime</td>\n",
       "      <td>142</td>\n",
       "      <td>[u'Tim Robbins', u'Morgan Freeman', u'Bob Gunt...</td>\n",
       "    </tr>\n",
       "    <tr>\n",
       "      <th>1</th>\n",
       "      <td>9.2</td>\n",
       "      <td>The Godfather</td>\n",
       "      <td>R</td>\n",
       "      <td>Crime</td>\n",
       "      <td>175</td>\n",
       "      <td>[u'Marlon Brando', u'Al Pacino', u'James Caan']</td>\n",
       "    </tr>\n",
       "    <tr>\n",
       "      <th>2</th>\n",
       "      <td>9.1</td>\n",
       "      <td>The Godfather: Part II</td>\n",
       "      <td>R</td>\n",
       "      <td>Crime</td>\n",
       "      <td>200</td>\n",
       "      <td>[u'Al Pacino', u'Robert De Niro', u'Robert Duv...</td>\n",
       "    </tr>\n",
       "    <tr>\n",
       "      <th>3</th>\n",
       "      <td>9.0</td>\n",
       "      <td>The Dark Knight</td>\n",
       "      <td>PG-13</td>\n",
       "      <td>Action</td>\n",
       "      <td>152</td>\n",
       "      <td>[u'Christian Bale', u'Heath Ledger', u'Aaron E...</td>\n",
       "    </tr>\n",
       "    <tr>\n",
       "      <th>4</th>\n",
       "      <td>8.9</td>\n",
       "      <td>Pulp Fiction</td>\n",
       "      <td>R</td>\n",
       "      <td>Crime</td>\n",
       "      <td>154</td>\n",
       "      <td>[u'John Travolta', u'Uma Thurman', u'Samuel L....</td>\n",
       "    </tr>\n",
       "  </tbody>\n",
       "</table>\n",
       "</div>"
      ],
      "text/plain": [
       "   star_rating                     title content_rating   genre  duration  \\\n",
       "0          9.3  The Shawshank Redemption              R   Crime       142   \n",
       "1          9.2             The Godfather              R   Crime       175   \n",
       "2          9.1    The Godfather: Part II              R   Crime       200   \n",
       "3          9.0           The Dark Knight          PG-13  Action       152   \n",
       "4          8.9              Pulp Fiction              R   Crime       154   \n",
       "\n",
       "                                         actors_list  \n",
       "0  [u'Tim Robbins', u'Morgan Freeman', u'Bob Gunt...  \n",
       "1    [u'Marlon Brando', u'Al Pacino', u'James Caan']  \n",
       "2  [u'Al Pacino', u'Robert De Niro', u'Robert Duv...  \n",
       "3  [u'Christian Bale', u'Heath Ledger', u'Aaron E...  \n",
       "4  [u'John Travolta', u'Uma Thurman', u'Samuel L....  "
      ]
     },
     "execution_count": 3,
     "metadata": {},
     "output_type": "execute_result"
    }
   ],
   "source": [
    "movies = pd.read_csv('./data/imdb_1000.csv')\n",
    "movies.head()"
   ]
  },
  {
   "cell_type": "markdown",
   "metadata": {},
   "source": [
    "#### Check the number of rows and columns."
   ]
  },
  {
   "cell_type": "code",
   "execution_count": 4,
   "metadata": {},
   "outputs": [
    {
     "name": "stdout",
     "output_type": "stream",
     "text": [
      "There are 979 rows and 6 columns.\n"
     ]
    }
   ],
   "source": [
    "# Answer:\n",
    "movies.shape\n",
    "\n",
    "# Formatted Answer:\n",
    "print(\"There are \" + str(movies.shape[0]) + \" rows and \" + str(movies.shape[1]) + \" columns.\")"
   ]
  },
  {
   "cell_type": "markdown",
   "metadata": {},
   "source": [
    "#### Check the data type of each column."
   ]
  },
  {
   "cell_type": "code",
   "execution_count": 5,
   "metadata": {},
   "outputs": [
    {
     "data": {
      "text/html": [
       "<div>\n",
       "<style scoped>\n",
       "    .dataframe tbody tr th:only-of-type {\n",
       "        vertical-align: middle;\n",
       "    }\n",
       "\n",
       "    .dataframe tbody tr th {\n",
       "        vertical-align: top;\n",
       "    }\n",
       "\n",
       "    .dataframe thead th {\n",
       "        text-align: right;\n",
       "    }\n",
       "</style>\n",
       "<table border=\"1\" class=\"dataframe\">\n",
       "  <thead>\n",
       "    <tr style=\"text-align: right;\">\n",
       "      <th></th>\n",
       "      <th>DataType</th>\n",
       "    </tr>\n",
       "  </thead>\n",
       "  <tbody>\n",
       "    <tr>\n",
       "      <th>star_rating</th>\n",
       "      <td>float64</td>\n",
       "    </tr>\n",
       "    <tr>\n",
       "      <th>title</th>\n",
       "      <td>object</td>\n",
       "    </tr>\n",
       "    <tr>\n",
       "      <th>content_rating</th>\n",
       "      <td>object</td>\n",
       "    </tr>\n",
       "    <tr>\n",
       "      <th>genre</th>\n",
       "      <td>object</td>\n",
       "    </tr>\n",
       "    <tr>\n",
       "      <th>duration</th>\n",
       "      <td>int64</td>\n",
       "    </tr>\n",
       "    <tr>\n",
       "      <th>actors_list</th>\n",
       "      <td>object</td>\n",
       "    </tr>\n",
       "  </tbody>\n",
       "</table>\n",
       "</div>"
      ],
      "text/plain": [
       "               DataType\n",
       "star_rating     float64\n",
       "title            object\n",
       "content_rating   object\n",
       "genre            object\n",
       "duration          int64\n",
       "actors_list      object"
      ]
     },
     "execution_count": 5,
     "metadata": {},
     "output_type": "execute_result"
    }
   ],
   "source": [
    "# Answer:\n",
    "\n",
    "pd.DataFrame(movies.dtypes, columns=['DataType'])\n"
   ]
  },
  {
   "cell_type": "markdown",
   "metadata": {},
   "source": [
    "#### Calculate the average movie duration."
   ]
  },
  {
   "cell_type": "code",
   "execution_count": 6,
   "metadata": {},
   "outputs": [
    {
     "name": "stdout",
     "output_type": "stream",
     "text": [
      "The average movie duration is 121 minutes.\n"
     ]
    }
   ],
   "source": [
    "# Answer: \n",
    "\n",
    "movies['duration'].mean()\n",
    "\n",
    "# Formatted Answer:\n",
    "\n",
    "print(\"The average movie duration is \" + str(int(round(movies['duration'].mean()))) + \" minutes.\")"
   ]
  },
  {
   "cell_type": "markdown",
   "metadata": {},
   "source": [
    "#### Sort the DataFrame by duration to find the shortest and longest movies."
   ]
  },
  {
   "cell_type": "code",
   "execution_count": 7,
   "metadata": {},
   "outputs": [
    {
     "name": "stdout",
     "output_type": "stream",
     "text": [
      "'Hamlet' is the longest movie at 242 minutes.\n",
      "'Freaks' is the shortest movie at 64 minutes.\n"
     ]
    }
   ],
   "source": [
    "# Answer:\n",
    "\n",
    "movie_length = movies.sort_values(by='duration', ascending = False)\n",
    "movie_length['title'].head(1)\n",
    "movie_length['title'].tail(1)\n",
    "\n",
    "# Answer Formatted:\n",
    "\n",
    "print(\"'\"\n",
    "      + str(movie_length.iloc[0, 1])\n",
    "      + \"'\"\n",
    "      + \" is the longest movie at \"\n",
    "      + str(movie_length.iloc[0, 4])\n",
    "      + \" minutes.\")\n",
    "\n",
    "print(\"'\"\n",
    "      + str(movie_length.iloc[-1, 1])\n",
    "      + \"'\"\n",
    "      + \" is the shortest movie at \" \n",
    "      + str(movie_length.iloc[-1, 4])\n",
    "      + \" minutes.\")"
   ]
  },
  {
   "cell_type": "markdown",
   "metadata": {},
   "source": [
    "#### Create a histogram of duration, choosing an \"appropriate\" number of bins."
   ]
  },
  {
   "cell_type": "code",
   "execution_count": 8,
   "metadata": {},
   "outputs": [
    {
     "data": {
      "text/plain": [
       "Text(0, 0.5, 'Movie Length (Minutes)')"
      ]
     },
     "execution_count": 8,
     "metadata": {},
     "output_type": "execute_result"
    },
    {
     "data": {
      "image/png": "[encoded data removed]",
      "text/plain": [
       "<Figure size 432x288 with 1 Axes>"
      ]
     },
     "metadata": {
      "needs_background": "light"
     },
     "output_type": "display_data"
    }
   ],
   "source": [
    "# Answer:\n",
    "\n",
    "hist = movies.duration.plot(kind='hist', bins=10)\n",
    "hist.set_title('Distribution of Movie Durations', fontsize = 12)\n",
    "hist.set_xlabel('Movie Count', fontsize = 10)\n",
    "hist.set_ylabel('Movie Length (Minutes)', fontsize = 10)\n"
   ]
  },
  {
   "cell_type": "markdown",
   "metadata": {},
   "source": [
    "#### Use a box plot to display that same data."
   ]
  },
  {
   "cell_type": "code",
   "execution_count": 9,
   "metadata": {},
   "outputs": [
    {
     "data": {
      "text/plain": [
       "Text(0.5, 1.0, 'Box Plot for Movie Durations')"
      ]
     },
     "execution_count": 9,
     "metadata": {},
     "output_type": "execute_result"
    },
    {
     "data": {
      "image/png": "[encoded data removed]",
      "text/plain": [
       "<Figure size 432x288 with 1 Axes>"
      ]
     },
     "metadata": {
      "needs_background": "light"
     },
     "output_type": "display_data"
    }
   ],
   "source": [
    "# Answer:\n",
    "\n",
    "box = movies.duration.plot(kind='box')\n",
    "\n",
    "box.set_title('Box Plot for Movie Durations', fontsize = 12)\n"
   ]
  },
  {
   "cell_type": "markdown",
   "metadata": {},
   "source": [
    "## Intermediate level"
   ]
  },
  {
   "cell_type": "markdown",
   "metadata": {},
   "source": [
    "#### Count how many movies have each of the content ratings."
   ]
  },
  {
   "cell_type": "code",
   "execution_count": 10,
   "metadata": {},
   "outputs": [
    {
     "name": "stdout",
     "output_type": "stream",
     "text": [
      "R            460\n",
      "PG-13        189\n",
      "PG           123\n",
      "NOT RATED     65\n",
      "APPROVED      47\n",
      "UNRATED       38\n",
      "G             32\n",
      "PASSED         7\n",
      "NC-17          7\n",
      "X              4\n",
      "GP             3\n",
      "TV-MA          1\n",
      "Name: content_rating, dtype: int64\n"
     ]
    }
   ],
   "source": [
    "# Answer:\n",
    "\n",
    "# Erin question for later - how do I create a dataset with actual columns?\n",
    "\n",
    "ratings = movies.content_rating.value_counts()\n",
    "\n",
    "print(ratings)"
   ]
  },
  {
   "cell_type": "markdown",
   "metadata": {},
   "source": [
    "#### Use a visualization to display that same data, including a title and x and y labels."
   ]
  },
  {
   "cell_type": "code",
   "execution_count": 143,
   "metadata": {},
   "outputs": [
    {
     "data": {
      "text/plain": [
       "Text(0, 0.5, 'Movie Length (Minutes)')"
      ]
     },
     "execution_count": 143,
     "metadata": {},
     "output_type": "execute_result"
    },
    {
     "data": {
      "image/png": "[encoded data removed]",
      "text/plain": [
       "<Figure size 432x288 with 1 Axes>"
      ]
     },
     "metadata": {
      "needs_background": "light"
     },
     "output_type": "display_data"
    }
   ],
   "source": [
    "# Answer:\n",
    "\n",
    "ratings_bar = ratings.plot(kind='bar')\n",
    "\n",
    "ratings_bar.set_title('Movie Counts by Content Rating', fontsize = 14)\n",
    "ratings_bar.set_xlabel('Content Ratings', fontsize = 12)\n",
    "ratings_bar.set_ylabel('Movie Length (Minutes)', fontsize = 12)"
   ]
  },
  {
   "cell_type": "markdown",
   "metadata": {},
   "source": [
    "#### Convert the following content ratings to \"UNRATED\": NOT RATED, APPROVED, PASSED, GP."
   ]
  },
  {
   "cell_type": "code",
   "execution_count": 12,
   "metadata": {
    "scrolled": true
   },
   "outputs": [
    {
     "data": {
      "text/plain": [
       "Text(0, 0.5, 'Movie Length (Minutes)')"
      ]
     },
     "execution_count": 12,
     "metadata": {},
     "output_type": "execute_result"
    },
    {
     "data": {
      "image/png": "[encoded data removed]",
      "text/plain": [
       "<Figure size 432x288 with 1 Axes>"
      ]
     },
     "metadata": {
      "needs_background": "light"
     },
     "output_type": "display_data"
    }
   ],
   "source": [
    "# Answer\n",
    "\n",
    "# 1. Clone movies dataframe (assuming we want to save these as separate databases, not necessary)\n",
    "\n",
    "movies_updated = movies\n",
    "\n",
    "# 2. Replace content ratings & generate counts grouped on rating\n",
    "movies_updated['content_rating'] = movies_updated['content_rating'].replace(['NOT RATED', 'APPROVED', 'PASSED', 'GP'], 'UNRATED')\n",
    "\n",
    "ratings_updated = movies_updated[['content_rating', 'title']].groupby(['content_rating']).count().sort_values('title', ascending=False).rename(columns={'title': 'movie counts'})\n",
    "\n",
    "# 3. Plot new graph\n",
    "ratings_updated_bar = ratings_updated.plot(kind='bar')\n",
    "ratings_updated_bar.set_title('Movie Counts by Content Rating', fontsize = 14)\n",
    "ratings_updated_bar.set_xlabel('Content Ratings', fontsize = 12)\n",
    "ratings_updated_bar.set_ylabel('Movie Length (Minutes)', fontsize = 12)\n"
   ]
  },
  {
   "cell_type": "markdown",
   "metadata": {},
   "source": [
    "#### Convert the following content ratings to \"NC-17\": X, TV-MA."
   ]
  },
  {
   "cell_type": "code",
   "execution_count": 13,
   "metadata": {},
   "outputs": [
    {
     "data": {
      "text/plain": [
       "Text(0, 0.5, 'Movie Length (Minutes)')"
      ]
     },
     "execution_count": 13,
     "metadata": {},
     "output_type": "execute_result"
    },
    {
     "data": {
      "image/png": "[encoded data removed]",
      "text/plain": [
       "<Figure size 432x288 with 1 Axes>"
      ]
     },
     "metadata": {
      "needs_background": "light"
     },
     "output_type": "display_data"
    }
   ],
   "source": [
    "# Answer\n",
    "\n",
    "# 1. Clone movies dataframe (assuming we want to save these as separate databases, not necessary)\n",
    "\n",
    "movies_updated_2 = movies_updated\n",
    "\n",
    "# 2. Replace content ratings & generate counts grouped on rating\n",
    "movies_updated_2['content_rating'] = movies_updated_2['content_rating'].replace(['X', 'TV-MA'], 'NC-17')\n",
    "\n",
    "ratings_updated_2 = movies_updated_2[['content_rating', 'title']].groupby(['content_rating']).count().sort_values('title', ascending=False).rename(columns={'title': 'movie counts'})\n",
    "\n",
    "# 3. Plot new graph\n",
    "ratings_updated_2_bar = ratings_updated_2.plot(kind='bar')\n",
    "ratings_updated_2_bar.set_title('Movie Counts by Content Rating', fontsize = 14)\n",
    "ratings_updated_2_bar.set_xlabel('Content Ratings', fontsize = 12)\n",
    "ratings_updated_2_bar.set_ylabel('Movie Length (Minutes)', fontsize = 12)"
   ]
  },
  {
   "cell_type": "markdown",
   "metadata": {},
   "source": [
    "#### Count the number of missing values in each column."
   ]
  },
  {
   "cell_type": "code",
   "execution_count": 14,
   "metadata": {},
   "outputs": [
    {
     "data": {
      "text/plain": [
       "star_rating       0\n",
       "title             0\n",
       "content_rating    3\n",
       "genre             0\n",
       "duration          0\n",
       "actors_list       0\n",
       "dtype: int64"
      ]
     },
     "execution_count": 14,
     "metadata": {},
     "output_type": "execute_result"
    }
   ],
   "source": [
    "# Answer:\n",
    "\n",
    "movies.isnull().sum()"
   ]
  },
  {
   "cell_type": "markdown",
   "metadata": {},
   "source": [
    "#### If there are missing values: examine them, then fill them in with \"reasonable\" values."
   ]
  },
  {
   "cell_type": "code",
   "execution_count": 383,
   "metadata": {},
   "outputs": [
    {
     "data": {
      "text/html": [
       "<div>\n",
       "<style scoped>\n",
       "    .dataframe tbody tr th:only-of-type {\n",
       "        vertical-align: middle;\n",
       "    }\n",
       "\n",
       "    .dataframe tbody tr th {\n",
       "        vertical-align: top;\n",
       "    }\n",
       "\n",
       "    .dataframe thead th {\n",
       "        text-align: right;\n",
       "    }\n",
       "</style>\n",
       "<table border=\"1\" class=\"dataframe\">\n",
       "  <thead>\n",
       "    <tr style=\"text-align: right;\">\n",
       "      <th></th>\n",
       "      <th>star_rating</th>\n",
       "      <th>title</th>\n",
       "      <th>content_rating</th>\n",
       "      <th>genre</th>\n",
       "      <th>duration</th>\n",
       "      <th>actors_list</th>\n",
       "    </tr>\n",
       "  </thead>\n",
       "  <tbody>\n",
       "    <tr>\n",
       "      <th>662</th>\n",
       "      <td>7.7</td>\n",
       "      <td>True Grit</td>\n",
       "      <td>PG-13</td>\n",
       "      <td>Adventure</td>\n",
       "      <td>110</td>\n",
       "      <td>[u'Jeff Bridges', u'Matt Damon', u'Hailee Stei...</td>\n",
       "    </tr>\n",
       "    <tr>\n",
       "      <th>936</th>\n",
       "      <td>7.4</td>\n",
       "      <td>True Grit</td>\n",
       "      <td>R</td>\n",
       "      <td>Adventure</td>\n",
       "      <td>128</td>\n",
       "      <td>[u'John Wayne', u'Kim Darby', u'Glen Campbell']</td>\n",
       "    </tr>\n",
       "  </tbody>\n",
       "</table>\n",
       "</div>"
      ],
      "text/plain": [
       "     star_rating      title content_rating      genre  duration  \\\n",
       "662          7.7  True Grit          PG-13  Adventure       110   \n",
       "936          7.4  True Grit              R  Adventure       128   \n",
       "\n",
       "                                           actors_list  \n",
       "662  [u'Jeff Bridges', u'Matt Damon', u'Hailee Stei...  \n",
       "936    [u'John Wayne', u'Kim Darby', u'Glen Campbell']  "
      ]
     },
     "execution_count": 383,
     "metadata": {},
     "output_type": "execute_result"
    }
   ],
   "source": [
    "movies = movies.fillna(value={'content_rating' : 'R'})\n"
   ]
  },
  {
   "cell_type": "markdown",
   "metadata": {},
   "source": [
    "#### Calculate the average star rating for movies 2 hours or longer, and compare that with the average star rating for movies shorter than 2 hours."
   ]
  },
  {
   "cell_type": "code",
   "execution_count": 21,
   "metadata": {},
   "outputs": [
    {
     "name": "stdout",
     "output_type": "stream",
     "text": [
      "Movies that are 2 hours or longer haver a higher star rating on average (7.95) than that of movies less than 2 hours (7.84).\n"
     ]
    }
   ],
   "source": [
    "# Answer:\n",
    "\n",
    "movies_2plus = movies[movies['duration'] >= 120]\n",
    "movies_under2 = movies[movies['duration'] < 120]\n",
    "\n",
    "movies_2plus['star_rating'].mean()\n",
    "movies_under2['star_rating'].mean()\n",
    "\n",
    "# Formatted Answer \n",
    "\n",
    "print(\"Movies that are 2 hours or longer haver a higher star rating on average (\" \n",
    "      + str(round(movies_2plus['star_rating'].mean(), 2))\n",
    "      + \") than that of movies less than 2 hours (\"\n",
    "      + str(round(movies_under2['star_rating'].mean(), 2))\n",
    "      + \").\"\n",
    "     )\n"
   ]
  },
  {
   "cell_type": "markdown",
   "metadata": {},
   "source": [
    "#### Use a visualization to detect whether there is a relationship between duration and star rating."
   ]
  },
  {
   "cell_type": "code",
   "execution_count": 24,
   "metadata": {},
   "outputs": [
    {
     "name": "stdout",
     "output_type": "stream",
     "text": [
      "There is a loose correlation between these 2 factors.\n",
      "\n",
      "             star_rating  duration\n",
      "star_rating     1.000000  0.227149\n",
      "duration        0.227149  1.000000\n"
     ]
    },
    {
     "data": {
      "image/png": "[encoded data removed]",
      "text/plain": [
       "<Figure size 432x288 with 1 Axes>"
      ]
     },
     "metadata": {
      "needs_background": "light"
     },
     "output_type": "display_data"
    }
   ],
   "source": [
    "# Answer:\n",
    "\n",
    "movie_correlations = movies.corr()\n",
    "\n",
    "movies.plot(kind='scatter', x='duration', y='star_rating');\n",
    "\n",
    "print(\"There is a loose correlation between these 2 factors.\")\n",
    "print()\n",
    "print(movies.corr())"
   ]
  },
  {
   "cell_type": "markdown",
   "metadata": {},
   "source": [
    "#### Calculate the average duration for each genre."
   ]
  },
  {
   "cell_type": "code",
   "execution_count": 25,
   "metadata": {},
   "outputs": [
    {
     "data": {
      "text/html": [
       "<div>\n",
       "<style scoped>\n",
       "    .dataframe tbody tr th:only-of-type {\n",
       "        vertical-align: middle;\n",
       "    }\n",
       "\n",
       "    .dataframe tbody tr th {\n",
       "        vertical-align: top;\n",
       "    }\n",
       "\n",
       "    .dataframe thead th {\n",
       "        text-align: right;\n",
       "    }\n",
       "</style>\n",
       "<table border=\"1\" class=\"dataframe\">\n",
       "  <thead>\n",
       "    <tr style=\"text-align: right;\">\n",
       "      <th></th>\n",
       "      <th>duration</th>\n",
       "    </tr>\n",
       "    <tr>\n",
       "      <th>genre</th>\n",
       "      <th></th>\n",
       "    </tr>\n",
       "  </thead>\n",
       "  <tbody>\n",
       "    <tr>\n",
       "      <th>Western</th>\n",
       "      <td>136.666667</td>\n",
       "    </tr>\n",
       "    <tr>\n",
       "      <th>Adventure</th>\n",
       "      <td>134.840000</td>\n",
       "    </tr>\n",
       "    <tr>\n",
       "      <th>Biography</th>\n",
       "      <td>131.844156</td>\n",
       "    </tr>\n",
       "    <tr>\n",
       "      <th>Drama</th>\n",
       "      <td>126.539568</td>\n",
       "    </tr>\n",
       "    <tr>\n",
       "      <th>Action</th>\n",
       "      <td>126.485294</td>\n",
       "    </tr>\n",
       "    <tr>\n",
       "      <th>Crime</th>\n",
       "      <td>122.298387</td>\n",
       "    </tr>\n",
       "    <tr>\n",
       "      <th>Mystery</th>\n",
       "      <td>115.625000</td>\n",
       "    </tr>\n",
       "    <tr>\n",
       "      <th>Thriller</th>\n",
       "      <td>114.200000</td>\n",
       "    </tr>\n",
       "    <tr>\n",
       "      <th>Fantasy</th>\n",
       "      <td>112.000000</td>\n",
       "    </tr>\n",
       "    <tr>\n",
       "      <th>Sci-Fi</th>\n",
       "      <td>109.000000</td>\n",
       "    </tr>\n",
       "    <tr>\n",
       "      <th>Comedy</th>\n",
       "      <td>107.602564</td>\n",
       "    </tr>\n",
       "    <tr>\n",
       "      <th>Family</th>\n",
       "      <td>107.500000</td>\n",
       "    </tr>\n",
       "    <tr>\n",
       "      <th>Horror</th>\n",
       "      <td>102.517241</td>\n",
       "    </tr>\n",
       "    <tr>\n",
       "      <th>Film-Noir</th>\n",
       "      <td>97.333333</td>\n",
       "    </tr>\n",
       "    <tr>\n",
       "      <th>Animation</th>\n",
       "      <td>96.596774</td>\n",
       "    </tr>\n",
       "    <tr>\n",
       "      <th>History</th>\n",
       "      <td>66.000000</td>\n",
       "    </tr>\n",
       "  </tbody>\n",
       "</table>\n",
       "</div>"
      ],
      "text/plain": [
       "             duration\n",
       "genre                \n",
       "Western    136.666667\n",
       "Adventure  134.840000\n",
       "Biography  131.844156\n",
       "Drama      126.539568\n",
       "Action     126.485294\n",
       "Crime      122.298387\n",
       "Mystery    115.625000\n",
       "Thriller   114.200000\n",
       "Fantasy    112.000000\n",
       "Sci-Fi     109.000000\n",
       "Comedy     107.602564\n",
       "Family     107.500000\n",
       "Horror     102.517241\n",
       "Film-Noir   97.333333\n",
       "Animation   96.596774\n",
       "History     66.000000"
      ]
     },
     "execution_count": 25,
     "metadata": {},
     "output_type": "execute_result"
    }
   ],
   "source": [
    "# Answer:\n",
    "\n",
    "# Erin question for later -- how to I manipulate mean() value? Like change to an int?\n",
    "\n",
    "movies[['genre', 'duration']].groupby('genre').mean().sort_values('duration', ascending=False)\n"
   ]
  },
  {
   "cell_type": "markdown",
   "metadata": {},
   "source": [
    "## Advanced level"
   ]
  },
  {
   "cell_type": "markdown",
   "metadata": {},
   "source": [
    "#### Visualize the relationship between content rating and duration."
   ]
  },
  {
   "cell_type": "code",
   "execution_count": 26,
   "metadata": {},
   "outputs": [
    {
     "data": {
      "image/png": "[encoded data removed]",
      "text/plain": [
       "<Figure size 432x288 with 1 Axes>"
      ]
     },
     "metadata": {
      "needs_background": "light"
     },
     "output_type": "display_data"
    }
   ],
   "source": [
    "# Answer:\n",
    "\n",
    "movies.plot(kind='scatter', x='duration', y='star_rating');\n"
   ]
  },
  {
   "cell_type": "markdown",
   "metadata": {},
   "source": [
    "#### Determine the top rated movie (by star rating) for each genre."
   ]
  },
  {
   "cell_type": "code",
   "execution_count": 27,
   "metadata": {},
   "outputs": [
    {
     "data": {
      "text/html": [
       "<div>\n",
       "<style scoped>\n",
       "    .dataframe tbody tr th:only-of-type {\n",
       "        vertical-align: middle;\n",
       "    }\n",
       "\n",
       "    .dataframe tbody tr th {\n",
       "        vertical-align: top;\n",
       "    }\n",
       "\n",
       "    .dataframe thead th {\n",
       "        text-align: right;\n",
       "    }\n",
       "</style>\n",
       "<table border=\"1\" class=\"dataframe\">\n",
       "  <thead>\n",
       "    <tr style=\"text-align: right;\">\n",
       "      <th></th>\n",
       "      <th>genre</th>\n",
       "      <th>title</th>\n",
       "    </tr>\n",
       "  </thead>\n",
       "  <tbody>\n",
       "    <tr>\n",
       "      <th>0</th>\n",
       "      <td>Crime</td>\n",
       "      <td>The Shawshank Redemption</td>\n",
       "    </tr>\n",
       "    <tr>\n",
       "      <th>3</th>\n",
       "      <td>Action</td>\n",
       "      <td>The Dark Knight</td>\n",
       "    </tr>\n",
       "    <tr>\n",
       "      <th>5</th>\n",
       "      <td>Drama</td>\n",
       "      <td>12 Angry Men</td>\n",
       "    </tr>\n",
       "    <tr>\n",
       "      <th>6</th>\n",
       "      <td>Western</td>\n",
       "      <td>The Good, the Bad and the Ugly</td>\n",
       "    </tr>\n",
       "    <tr>\n",
       "      <th>7</th>\n",
       "      <td>Adventure</td>\n",
       "      <td>The Lord of the Rings: The Return of the King</td>\n",
       "    </tr>\n",
       "    <tr>\n",
       "      <th>8</th>\n",
       "      <td>Biography</td>\n",
       "      <td>Schindler's List</td>\n",
       "    </tr>\n",
       "    <tr>\n",
       "      <th>25</th>\n",
       "      <td>Comedy</td>\n",
       "      <td>Life Is Beautiful</td>\n",
       "    </tr>\n",
       "    <tr>\n",
       "      <th>30</th>\n",
       "      <td>Animation</td>\n",
       "      <td>Spirited Away</td>\n",
       "    </tr>\n",
       "    <tr>\n",
       "      <th>38</th>\n",
       "      <td>Mystery</td>\n",
       "      <td>Rear Window</td>\n",
       "    </tr>\n",
       "    <tr>\n",
       "      <th>39</th>\n",
       "      <td>Horror</td>\n",
       "      <td>Psycho</td>\n",
       "    </tr>\n",
       "    <tr>\n",
       "      <th>105</th>\n",
       "      <td>Film-Noir</td>\n",
       "      <td>The Third Man</td>\n",
       "    </tr>\n",
       "    <tr>\n",
       "      <th>145</th>\n",
       "      <td>Sci-Fi</td>\n",
       "      <td>Blade Runner</td>\n",
       "    </tr>\n",
       "    <tr>\n",
       "      <th>338</th>\n",
       "      <td>History</td>\n",
       "      <td>Battleship Potemkin</td>\n",
       "    </tr>\n",
       "    <tr>\n",
       "      <th>350</th>\n",
       "      <td>Thriller</td>\n",
       "      <td>Shadow of a Doubt</td>\n",
       "    </tr>\n",
       "    <tr>\n",
       "      <th>468</th>\n",
       "      <td>Family</td>\n",
       "      <td>E.T. the Extra-Terrestrial</td>\n",
       "    </tr>\n",
       "    <tr>\n",
       "      <th>638</th>\n",
       "      <td>Fantasy</td>\n",
       "      <td>The City of Lost Children</td>\n",
       "    </tr>\n",
       "  </tbody>\n",
       "</table>\n",
       "</div>"
      ],
      "text/plain": [
       "         genre                                          title\n",
       "0        Crime                       The Shawshank Redemption\n",
       "3       Action                                The Dark Knight\n",
       "5        Drama                                   12 Angry Men\n",
       "6      Western                 The Good, the Bad and the Ugly\n",
       "7    Adventure  The Lord of the Rings: The Return of the King\n",
       "8    Biography                               Schindler's List\n",
       "25      Comedy                              Life Is Beautiful\n",
       "30   Animation                                  Spirited Away\n",
       "38     Mystery                                    Rear Window\n",
       "39      Horror                                         Psycho\n",
       "105  Film-Noir                                  The Third Man\n",
       "145     Sci-Fi                                   Blade Runner\n",
       "338    History                            Battleship Potemkin\n",
       "350   Thriller                              Shadow of a Doubt\n",
       "468     Family                     E.T. the Extra-Terrestrial\n",
       "638    Fantasy                      The City of Lost Children"
      ]
     },
     "execution_count": 27,
     "metadata": {},
     "output_type": "execute_result"
    }
   ],
   "source": [
    "# Answer:\n",
    "\n",
    "movies_genre_ratings = movies[['title', 'genre', 'star_rating']].assign(rn=movies.groupby(['genre'])['star_rating'].rank(method = 'first', ascending=False))\n",
    "\n",
    "top_rated = movies_genre_ratings[movies_genre_ratings['rn'] == 1]\n",
    "\n",
    "top_rated[['genre', 'title']]"
   ]
  },
  {
   "cell_type": "markdown",
   "metadata": {},
   "source": [
    "#### Check if there are multiple movies with the same title, and if so, determine if they are actually duplicates."
   ]
  },
  {
   "cell_type": "code",
   "execution_count": 41,
   "metadata": {},
   "outputs": [
    {
     "name": "stdout",
     "output_type": "stream",
     "text": [
      "     star_rating                            title content_rating      genre  \\\n",
      "466          7.9  The Girl with the Dragon Tattoo              R      Crime   \n",
      "482          7.8  The Girl with the Dragon Tattoo              R      Crime   \n",
      "662          7.7                        True Grit          PG-13  Adventure   \n",
      "936          7.4                        True Grit            NaN  Adventure   \n",
      "678          7.7                   Les Miserables          PG-13      Drama   \n",
      "924          7.5                   Les Miserables          PG-13      Crime   \n",
      "703          7.6                          Dracula        UNRATED     Horror   \n",
      "905          7.5                          Dracula              R     Horror   \n",
      "\n",
      "     duration                                        actors_list  \n",
      "466       158  [u'Daniel Craig', u'Rooney Mara', u'Christophe...  \n",
      "482       152  [u'Michael Nyqvist', u'Noomi Rapace', u'Ewa Fr...  \n",
      "662       110  [u'Jeff Bridges', u'Matt Damon', u'Hailee Stei...  \n",
      "936       128    [u'John Wayne', u'Kim Darby', u'Glen Campbell']  \n",
      "678       158  [u'Hugh Jackman', u'Russell Crowe', u'Anne Hat...  \n",
      "924       134  [u'Liam Neeson', u'Geoffrey Rush', u'Uma Thurm...  \n",
      "703        85  [u'Bela Lugosi', u'Helen Chandler', u'David Ma...  \n",
      "905       128  [u'Gary Oldman', u'Winona Ryder', u'Anthony Ho...  \n",
      "\n",
      "All titles are remakes. No real duplicates.\n"
     ]
    }
   ],
   "source": [
    "# Answer:\n",
    "\n",
    "# Erin question for later - how do I automate this either in an OR statement or an 'is in list' clause?\n",
    "\n",
    "movies.title.value_counts()\n",
    "\n",
    "dragon = movies[movies['title'] == 'The Girl with the Dragon Tattoo']\n",
    "grit = movies[movies['title'] == 'True Grit']\n",
    "mis = movies[movies['title'] == 'Les Miserables']\n",
    "vamp = movies[movies['title'] == 'Dracula']\n",
    "\n",
    "duplicates = dragon.append(grit.append(mis.append(vamp)))\n",
    "\n",
    "print(duplicates)\n",
    "print ()\n",
    "print(\"All titles are remakes. No real duplicates.\")\n"
   ]
  },
  {
   "cell_type": "markdown",
   "metadata": {
    "collapsed": true
   },
   "source": [
    "#### Calculate the average star rating for each genre, but only include genres with at least 10 movies\n"
   ]
  },
  {
   "cell_type": "code",
   "execution_count": 50,
   "metadata": {},
   "outputs": [
    {
     "data": {
      "text/html": [
       "<div>\n",
       "<style scoped>\n",
       "    .dataframe tbody tr th:only-of-type {\n",
       "        vertical-align: middle;\n",
       "    }\n",
       "\n",
       "    .dataframe tbody tr th {\n",
       "        vertical-align: top;\n",
       "    }\n",
       "\n",
       "    .dataframe thead th {\n",
       "        text-align: right;\n",
       "    }\n",
       "</style>\n",
       "<table border=\"1\" class=\"dataframe\">\n",
       "  <thead>\n",
       "    <tr style=\"text-align: right;\">\n",
       "      <th></th>\n",
       "      <th>star_rating</th>\n",
       "    </tr>\n",
       "    <tr>\n",
       "      <th>genre</th>\n",
       "      <th></th>\n",
       "    </tr>\n",
       "  </thead>\n",
       "  <tbody>\n",
       "    <tr>\n",
       "      <th>Action</th>\n",
       "      <td>7.884559</td>\n",
       "    </tr>\n",
       "    <tr>\n",
       "      <th>Adventure</th>\n",
       "      <td>7.933333</td>\n",
       "    </tr>\n",
       "    <tr>\n",
       "      <th>Animation</th>\n",
       "      <td>7.914516</td>\n",
       "    </tr>\n",
       "    <tr>\n",
       "      <th>Biography</th>\n",
       "      <td>7.862338</td>\n",
       "    </tr>\n",
       "    <tr>\n",
       "      <th>Comedy</th>\n",
       "      <td>7.822436</td>\n",
       "    </tr>\n",
       "    <tr>\n",
       "      <th>Crime</th>\n",
       "      <td>7.916935</td>\n",
       "    </tr>\n",
       "    <tr>\n",
       "      <th>Drama</th>\n",
       "      <td>7.902518</td>\n",
       "    </tr>\n",
       "    <tr>\n",
       "      <th>Horror</th>\n",
       "      <td>7.806897</td>\n",
       "    </tr>\n",
       "    <tr>\n",
       "      <th>Mystery</th>\n",
       "      <td>7.975000</td>\n",
       "    </tr>\n",
       "  </tbody>\n",
       "</table>\n",
       "</div>"
      ],
      "text/plain": [
       "           star_rating\n",
       "genre                 \n",
       "Action        7.884559\n",
       "Adventure     7.933333\n",
       "Animation     7.914516\n",
       "Biography     7.862338\n",
       "Comedy        7.822436\n",
       "Crime         7.916935\n",
       "Drama         7.902518\n",
       "Horror        7.806897\n",
       "Mystery       7.975000"
      ]
     },
     "execution_count": 50,
     "metadata": {},
     "output_type": "execute_result"
    }
   ],
   "source": [
    "# Answer (this will not be pretty):\n",
    "\n",
    "movies['genre'].value_counts()\n",
    "\n",
    "# Erin question for later - HOW do I automate this!? Basically a having clause from SQL but Python?\n",
    "\n",
    "drama = movies[movies['genre'] == 'Drama']\n",
    "comedy = movies[movies['genre'] == 'Comedy']\n",
    "action = movies[movies['genre'] == 'Action']\n",
    "crime = movies[movies['genre'] == 'Crime']\n",
    "biography = movies[movies['genre'] == 'Biography']\n",
    "adventure = movies[movies['genre'] == 'Adventure']\n",
    "animation = movies[movies['genre'] == 'Animation']\n",
    "horror = movies[movies['genre'] == 'Horror']\n",
    "mystery = movies[movies['genre'] == 'Mystery']\n",
    "\n",
    "over_10 = drama.append(comedy.append(action.append(crime.append(biography.append(adventure.append(animation.append(horror.append(mystery))))))))\n",
    "\n",
    "over_10[['genre', 'star_rating']].groupby('genre').mean()\n"
   ]
  },
  {
   "cell_type": "markdown",
   "metadata": {},
   "source": [
    "#### Option 1: manually create a list of relevant genres, then filter using that list"
   ]
  },
  {
   "cell_type": "code",
   "execution_count": null,
   "metadata": {
    "collapsed": true
   },
   "outputs": [],
   "source": [
    "# Answer:\n",
    "\n"
   ]
  },
  {
   "cell_type": "markdown",
   "metadata": {},
   "source": [
    "#### Option 2: automatically create a list of relevant genres by saving the value_counts and then filtering"
   ]
  },
  {
   "cell_type": "code",
   "execution_count": null,
   "metadata": {
    "collapsed": true
   },
   "outputs": [],
   "source": [
    "# Answer:"
   ]
  },
  {
   "cell_type": "markdown",
   "metadata": {},
   "source": [
    "#### Option 3: calculate the average star rating for all genres, then filter using a boolean Series"
   ]
  },
  {
   "cell_type": "code",
   "execution_count": null,
   "metadata": {
    "collapsed": true
   },
   "outputs": [],
   "source": [
    "# Answer:"
   ]
  },
  {
   "cell_type": "markdown",
   "metadata": {},
   "source": [
    "#### Option 4: aggregate by count and mean, then filter using the count"
   ]
  },
  {
   "cell_type": "code",
   "execution_count": null,
   "metadata": {},
   "outputs": [],
   "source": []
  },
  {
   "cell_type": "markdown",
   "metadata": {},
   "source": [
    "## Bonus"
   ]
  },
  {
   "cell_type": "markdown",
   "metadata": {
    "collapsed": true
   },
   "source": [
    "#### Figure out something \"interesting\" using the actors data!"
   ]
  },
  {
   "cell_type": "code",
   "execution_count": null,
   "metadata": {},
   "outputs": [],
   "source": [
    "# Note to Jodi / Chris -- honestly just ignore this code. I don't know how to manipulate databases enough to do basic analyses which is honestly pretty frustrating but serve me right for not signing up for office hours sooner!\n"
   ]
  },
  {
   "cell_type": "code",
   "execution_count": 151,
   "metadata": {},
   "outputs": [],
   "source": [
    "actors = movies[['title', 'actors_list']]\n",
    "actors_only = actors[['title']]\n",
    "\n",
    "Actors_Split = pd.DataFrame(actors['actors_list'].str.split(\", u\").values.tolist())\n",
    "Actors_Split = pd.concat([actors_only, Actors_Split], axis = 1, sort=True)\n",
    "\n",
    "Actors_Split[0] = Actors_Split[0].str.replace( \"u'\", '', regex=True)\n",
    "Actors_Split[0] = Actors_Split[0].str.replace( \"'\", '', regex=True)\n",
    "Actors_Split[0] = Actors_Split[0].str.replace( \"[\", '', regex=True)\n",
    "Actors_Split[1] = Actors_Split[1].str.replace( \"'\", '', regex=True)\n",
    "Actors_Split[2] = Actors_Split[2].str.replace( \"'\", '', regex=True)\n",
    "Actors_Split[2] = Actors_Split[2].str.replace( \"]\", '', regex=True)\n",
    "\n",
    "Actors_Split.columns = ['title','actor1', 'actor2', 'actor3']\n",
    "\n",
    "movies_actors = movies.join(Actors_Split.set_index('title'), on='title')\n",
    "\n",
    "movies_actors_1 = movies_actors[['star_rating', 'title', 'genre', 'content_rating', 'duration', 'actor1']].rename(columns={'actor1': 'actor'})\n",
    "movies_actors_2 = movies_actors[['star_rating', 'title', 'genre', 'content_rating', 'duration', 'actor2']].rename(columns={'actor2': 'actor'})\n",
    "movies_actors_3 = movies_actors[['star_rating', 'title', 'genre', 'content_rating', 'duration', 'actor3']].rename(columns={'actor3': 'actor'})\n",
    "\n",
    "actors_final = movies_actors_1.append(movies_actors_2.append(movies_actors_3))\n"
   ]
  },
  {
   "cell_type": "code",
   "execution_count": 152,
   "metadata": {},
   "outputs": [],
   "source": [
    "actor_max = actors_final[['star_rating', 'actor']].groupby('actor').max()\n",
    "actor_min = actors_final[['star_rating', 'actor']].groupby('actor').min()\n",
    "actor_time = actors_final[['duration', 'actor']].groupby('actor').sum()"
   ]
  },
  {
   "cell_type": "code",
   "execution_count": 153,
   "metadata": {},
   "outputs": [
    {
     "data": {
      "text/html": [
       "<div>\n",
       "<style scoped>\n",
       "    .dataframe tbody tr th:only-of-type {\n",
       "        vertical-align: middle;\n",
       "    }\n",
       "\n",
       "    .dataframe tbody tr th {\n",
       "        vertical-align: top;\n",
       "    }\n",
       "\n",
       "    .dataframe thead th {\n",
       "        text-align: right;\n",
       "    }\n",
       "</style>\n",
       "<table border=\"1\" class=\"dataframe\">\n",
       "  <thead>\n",
       "    <tr style=\"text-align: right;\">\n",
       "      <th></th>\n",
       "      <th>star_rating</th>\n",
       "    </tr>\n",
       "    <tr>\n",
       "      <th>actor</th>\n",
       "      <th></th>\n",
       "    </tr>\n",
       "  </thead>\n",
       "  <tbody>\n",
       "    <tr>\n",
       "      <th>\"Beverly DAngelo\"</th>\n",
       "      <td>8.6</td>\n",
       "    </tr>\n",
       "    <tr>\n",
       "      <th>\"Catherine OHara\"</th>\n",
       "      <td>8.0</td>\n",
       "    </tr>\n",
       "    <tr>\n",
       "      <th>\"Chris ODonnell\"</th>\n",
       "      <td>8.0</td>\n",
       "    </tr>\n",
       "    <tr>\n",
       "      <th>\"Chris ODowd\"</th>\n",
       "      <td>7.5</td>\n",
       "    </tr>\n",
       "    <tr>\n",
       "      <th>\"Dan OHerlihy\"</th>\n",
       "      <td>7.5</td>\n",
       "    </tr>\n",
       "  </tbody>\n",
       "</table>\n",
       "</div>"
      ],
      "text/plain": [
       "                   star_rating\n",
       "actor                         \n",
       "\"Beverly DAngelo\"          8.6\n",
       "\"Catherine OHara\"          8.0\n",
       "\"Chris ODonnell\"           8.0\n",
       "\"Chris ODowd\"              7.5\n",
       "\"Dan OHerlihy\"             7.5"
      ]
     },
     "execution_count": 153,
     "metadata": {},
     "output_type": "execute_result"
    }
   ],
   "source": [
    "actor_max.head(5)"
   ]
  }
 ],
 "metadata": {
  "kernelspec": {
   "display_name": "Python 3",
   "language": "python",
   "name": "python3"
  },
  "language_info": {
   "codemirror_mode": {
    "name": "ipython",
    "version": 3
   },
   "file_extension": ".py",
   "mimetype": "text/x-python",
   "name": "python",
   "nbconvert_exporter": "python",
   "pygments_lexer": "ipython3",
   "version": "3.7.1"
  }
 },
 "nbformat": 4,
 "nbformat_minor": 1
}
